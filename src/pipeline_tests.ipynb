{
 "cells": [
  {
   "cell_type": "code",
   "execution_count": 4,
   "id": "afac6b48",
   "metadata": {},
   "outputs": [
    {
     "name": "stdout",
     "output_type": "stream",
     "text": [
      "Loaded dataset with 87366 examples.\n",
      "Example: {'setting': 'banquet hall', 'behavior': 'have long hair', 'setting-behavior': 'banquet hall [BEHAVIOR] have long hair', 'constraints': \"[PERSON]'s gender is 'woman'\", 'constraints_given': ' [AND] ', 'constraint_predict': \"[PERSON]'s gender is 'woman'\", 'norm': 'expected', 'label': 2, 'split': 'train'}\n"
     ]
    }
   ],
   "source": [
    "from datasets import load_dataset\n",
    "from huggingface_hub import InferenceClient\n",
    "\n",
    "ds = load_dataset(\"SALT-NLP/NormBank\")[\"train\"].filter(lambda x: x[\"norm\"] != \"taboo\")\n",
    "\n",
    "ds.select(range(20000, 21000))\n",
    "\n",
    "print(\"Loaded dataset with\", len(ds), \"examples.\")\n",
    "\n",
    "# show example\n",
    "print(\"Example:\", ds[0])"
   ]
  }
 ],
 "metadata": {
  "kernelspec": {
   "display_name": "audio-env",
   "language": "python",
   "name": "python3"
  },
  "language_info": {
   "codemirror_mode": {
    "name": "ipython",
    "version": 3
   },
   "file_extension": ".py",
   "mimetype": "text/x-python",
   "name": "python",
   "nbconvert_exporter": "python",
   "pygments_lexer": "ipython3",
   "version": "3.10.14"
  }
 },
 "nbformat": 4,
 "nbformat_minor": 5
}
